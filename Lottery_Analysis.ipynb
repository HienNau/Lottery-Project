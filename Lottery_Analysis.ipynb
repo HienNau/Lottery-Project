{
 "cells": [
  {
   "cell_type": "code",
   "execution_count": 2,
   "metadata": {},
   "outputs": [],
   "source": [
    "import pymongo\n",
    "from pymongo import MongoClient\n",
    "import pandas as pd\n",
    "import numpy as np\n",
    "import matplotlib.pyplot as plt\n",
    "import seaborn as sns\n",
    "import json"
   ]
  },
  {
   "cell_type": "code",
   "execution_count": 3,
   "metadata": {},
   "outputs": [],
   "source": [
    "# MongoClient = MongoClient('localhost', 27017)\n",
    "# db = MongoClient['Lottery']\n",
    "# collection = db['Crawl_XSMB']\n",
    "# data = pd.DataFrame(list(collection.find()))\n",
    "# data.drop(columns='_id', inplace=True)\n",
    "# data"
   ]
  },
  {
   "cell_type": "code",
   "execution_count": 4,
   "metadata": {},
   "outputs": [
    {
     "data": {
      "text/html": [
       "<div>\n",
       "<style scoped>\n",
       "    .dataframe tbody tr th:only-of-type {\n",
       "        vertical-align: middle;\n",
       "    }\n",
       "\n",
       "    .dataframe tbody tr th {\n",
       "        vertical-align: top;\n",
       "    }\n",
       "\n",
       "    .dataframe thead th {\n",
       "        text-align: right;\n",
       "    }\n",
       "</style>\n",
       "<table border=\"1\" class=\"dataframe\">\n",
       "  <thead>\n",
       "    <tr style=\"text-align: right;\">\n",
       "      <th></th>\n",
       "      <th>date</th>\n",
       "      <th>XSMB</th>\n",
       "    </tr>\n",
       "  </thead>\n",
       "  <tbody>\n",
       "    <tr>\n",
       "      <th>0</th>\n",
       "      <td>15-08-2024</td>\n",
       "      <td>72146</td>\n",
       "    </tr>\n",
       "    <tr>\n",
       "      <th>1</th>\n",
       "      <td>14-08-2024</td>\n",
       "      <td>34309</td>\n",
       "    </tr>\n",
       "    <tr>\n",
       "      <th>2</th>\n",
       "      <td>13-08-2024</td>\n",
       "      <td>74922</td>\n",
       "    </tr>\n",
       "    <tr>\n",
       "      <th>3</th>\n",
       "      <td>12-08-2024</td>\n",
       "      <td>79725</td>\n",
       "    </tr>\n",
       "    <tr>\n",
       "      <th>4</th>\n",
       "      <td>11-08-2024</td>\n",
       "      <td>70580</td>\n",
       "    </tr>\n",
       "    <tr>\n",
       "      <th>...</th>\n",
       "      <td>...</td>\n",
       "      <td>...</td>\n",
       "    </tr>\n",
       "    <tr>\n",
       "      <th>7295</th>\n",
       "      <td>25-05-2004</td>\n",
       "      <td>89827</td>\n",
       "    </tr>\n",
       "    <tr>\n",
       "      <th>7296</th>\n",
       "      <td>24-05-2004</td>\n",
       "      <td>02254</td>\n",
       "    </tr>\n",
       "    <tr>\n",
       "      <th>7297</th>\n",
       "      <td>23-05-2004</td>\n",
       "      <td>77203</td>\n",
       "    </tr>\n",
       "    <tr>\n",
       "      <th>7298</th>\n",
       "      <td>22-05-2004</td>\n",
       "      <td>51959</td>\n",
       "    </tr>\n",
       "    <tr>\n",
       "      <th>7299</th>\n",
       "      <td>21-05-2004</td>\n",
       "      <td>04708</td>\n",
       "    </tr>\n",
       "  </tbody>\n",
       "</table>\n",
       "<p>7300 rows × 2 columns</p>\n",
       "</div>"
      ],
      "text/plain": [
       "            date   XSMB\n",
       "0     15-08-2024  72146\n",
       "1     14-08-2024  34309\n",
       "2     13-08-2024  74922\n",
       "3     12-08-2024  79725\n",
       "4     11-08-2024  70580\n",
       "...          ...    ...\n",
       "7295  25-05-2004  89827\n",
       "7296  24-05-2004  02254\n",
       "7297  23-05-2004  77203\n",
       "7298  22-05-2004  51959\n",
       "7299  21-05-2004  04708\n",
       "\n",
       "[7300 rows x 2 columns]"
      ]
     },
     "execution_count": 4,
     "metadata": {},
     "output_type": "execute_result"
    }
   ],
   "source": [
    "with open(\"XSKT.json\", \"r\") as file:\n",
    "    data = json.load(file)\n",
    "data = pd.DataFrame(data)\n",
    "data"
   ]
  },
  {
   "cell_type": "code",
   "execution_count": 5,
   "metadata": {},
   "outputs": [
    {
     "name": "stdout",
     "output_type": "stream",
     "text": [
      "<class 'pandas.core.frame.DataFrame'>\n",
      "RangeIndex: 7300 entries, 0 to 7299\n",
      "Data columns (total 2 columns):\n",
      " #   Column  Non-Null Count  Dtype \n",
      "---  ------  --------------  ----- \n",
      " 0   date    7300 non-null   object\n",
      " 1   XSMB    7300 non-null   object\n",
      "dtypes: object(2)\n",
      "memory usage: 114.2+ KB\n"
     ]
    }
   ],
   "source": [
    "data.info()"
   ]
  },
  {
   "cell_type": "markdown",
   "metadata": {},
   "source": [
    "Check frequency of lottery result "
   ]
  },
  {
   "cell_type": "code",
   "execution_count": 6,
   "metadata": {},
   "outputs": [
    {
     "data": {
      "text/plain": [
       "XSMB\n",
       "14516    3\n",
       "28192    3\n",
       "95201    3\n",
       "29224    3\n",
       "99368    3\n",
       "        ..\n",
       "09379    1\n",
       "20996    1\n",
       "58309    1\n",
       "29424    1\n",
       "04708    1\n",
       "Name: count, Length: 7052, dtype: int64"
      ]
     },
     "execution_count": 6,
     "metadata": {},
     "output_type": "execute_result"
    }
   ],
   "source": [
    "data[\"XSMB\"].value_counts()"
   ]
  },
  {
   "cell_type": "markdown",
   "metadata": {},
   "source": [
    "Check randomness of odd results and even results"
   ]
  },
  {
   "cell_type": "code",
   "execution_count": 7,
   "metadata": {},
   "outputs": [
    {
     "data": {
      "text/plain": [
       "odd/even\n",
       "even    3690\n",
       "odd     3610\n",
       "Name: count, dtype: int64"
      ]
     },
     "execution_count": 7,
     "metadata": {},
     "output_type": "execute_result"
    }
   ],
   "source": [
    "data[\"odd/even\"] = data[\"XSMB\"].astype(\"int\").apply(lambda x: \"odd\" if x % 2 != 0 else \"even\")\n",
    "data[\"odd/even\"].value_counts()"
   ]
  },
  {
   "cell_type": "code",
   "execution_count": 8,
   "metadata": {},
   "outputs": [],
   "source": [
    "odd_even_data = data[\"odd/even\"].value_counts().reset_index()"
   ]
  },
  {
   "cell_type": "code",
   "execution_count": 9,
   "metadata": {},
   "outputs": [
    {
     "name": "stderr",
     "output_type": "stream",
     "text": [
      "C:\\Users\\hungl\\AppData\\Local\\Temp\\ipykernel_9228\\3039627587.py:2: FutureWarning: \n",
      "\n",
      "Passing `palette` without assigning `hue` is deprecated and will be removed in v0.14.0. Assign the `x` variable to `hue` and set `legend=False` for the same effect.\n",
      "\n",
      "  sns.barplot(y=\"count\", x=\"odd/even\", data=odd_even_data, palette=colors)\n"
     ]
    },
    {
     "data": {
      "text/plain": [
       "Text(0.5, 1.0, 'Odd/Even frequency in XSMB')"
      ]
     },
     "execution_count": 9,
     "metadata": {},
     "output_type": "execute_result"
    },
    {
     "data": {
      "image/png": "[encoded data removed]",
      "text/plain": [
       "<Figure size 640x480 with 1 Axes>"
      ]
     },
     "metadata": {},
     "output_type": "display_data"
    }
   ],
   "source": [
    "colors = [\"blue\", \"orange\"]\n",
    "sns.barplot(y=\"count\", x=\"odd/even\", data=odd_even_data, palette=colors)\n",
    "plt.title(\"Odd/Even frequency in XSMB\")"
   ]
  },
  {
   "cell_type": "markdown",
   "metadata": {},
   "source": [
    "Check randomness of the last 2 digits (the betting number - Đánh đề).\n",
    "After visualization, the chart describe Uniform Distribution"
   ]
  },
  {
   "cell_type": "code",
   "execution_count": 10,
   "metadata": {},
   "outputs": [
    {
     "data": {
      "text/html": [
       "<div>\n",
       "<style scoped>\n",
       "    .dataframe tbody tr th:only-of-type {\n",
       "        vertical-align: middle;\n",
       "    }\n",
       "\n",
       "    .dataframe tbody tr th {\n",
       "        vertical-align: top;\n",
       "    }\n",
       "\n",
       "    .dataframe thead th {\n",
       "        text-align: right;\n",
       "    }\n",
       "</style>\n",
       "<table border=\"1\" class=\"dataframe\">\n",
       "  <thead>\n",
       "    <tr style=\"text-align: right;\">\n",
       "      <th></th>\n",
       "      <th>XSMB</th>\n",
       "      <th>count</th>\n",
       "    </tr>\n",
       "  </thead>\n",
       "  <tbody>\n",
       "    <tr>\n",
       "      <th>0</th>\n",
       "      <td>36</td>\n",
       "      <td>97</td>\n",
       "    </tr>\n",
       "    <tr>\n",
       "      <th>1</th>\n",
       "      <td>70</td>\n",
       "      <td>95</td>\n",
       "    </tr>\n",
       "    <tr>\n",
       "      <th>2</th>\n",
       "      <td>39</td>\n",
       "      <td>91</td>\n",
       "    </tr>\n",
       "    <tr>\n",
       "      <th>3</th>\n",
       "      <td>65</td>\n",
       "      <td>90</td>\n",
       "    </tr>\n",
       "    <tr>\n",
       "      <th>4</th>\n",
       "      <td>82</td>\n",
       "      <td>89</td>\n",
       "    </tr>\n",
       "    <tr>\n",
       "      <th>...</th>\n",
       "      <td>...</td>\n",
       "      <td>...</td>\n",
       "    </tr>\n",
       "    <tr>\n",
       "      <th>95</th>\n",
       "      <td>51</td>\n",
       "      <td>60</td>\n",
       "    </tr>\n",
       "    <tr>\n",
       "      <th>96</th>\n",
       "      <td>20</td>\n",
       "      <td>59</td>\n",
       "    </tr>\n",
       "    <tr>\n",
       "      <th>97</th>\n",
       "      <td>35</td>\n",
       "      <td>59</td>\n",
       "    </tr>\n",
       "    <tr>\n",
       "      <th>98</th>\n",
       "      <td>40</td>\n",
       "      <td>53</td>\n",
       "    </tr>\n",
       "    <tr>\n",
       "      <th>99</th>\n",
       "      <td>28</td>\n",
       "      <td>49</td>\n",
       "    </tr>\n",
       "  </tbody>\n",
       "</table>\n",
       "<p>100 rows × 2 columns</p>\n",
       "</div>"
      ],
      "text/plain": [
       "   XSMB  count\n",
       "0    36     97\n",
       "1    70     95\n",
       "2    39     91\n",
       "3    65     90\n",
       "4    82     89\n",
       "..  ...    ...\n",
       "95   51     60\n",
       "96   20     59\n",
       "97   35     59\n",
       "98   40     53\n",
       "99   28     49\n",
       "\n",
       "[100 rows x 2 columns]"
      ]
     },
     "execution_count": 10,
     "metadata": {},
     "output_type": "execute_result"
    }
   ],
   "source": [
    "betting_number = data[\"XSMB\"].str[-2:].value_counts().reset_index()\n",
    "betting_number"
   ]
  },
  {
   "cell_type": "code",
   "execution_count": 11,
   "metadata": {},
   "outputs": [
    {
     "data": {
      "text/plain": [
       "Text(0.5, 1.0, 'Frequency of betting number in XSMB')"
      ]
     },
     "execution_count": 11,
     "metadata": {},
     "output_type": "execute_result"
    },
    {
     "data": {
      "image/png": "[encoded data removed]",
      "text/plain": [
       "<Figure size 800x400 with 1 Axes>"
      ]
     },
     "metadata": {},
     "output_type": "display_data"
    }
   ],
   "source": [
    "sns.displot(data[\"XSMB\"].str[-2:].astype(\"int\"), bins=10, height=4, aspect=2)\n",
    "plt.xticks(np.arange(0, 100, 10))\n",
    "plt.title(\"Frequency of betting number in XSMB\")"
   ]
  },
  {
   "cell_type": "markdown",
   "metadata": {},
   "source": [
    "Perform a Chi-Square test to prove the randomness of lottery results (5-digit numbers):"
   ]
  },
  {
   "cell_type": "code",
   "execution_count": 12,
   "metadata": {},
   "outputs": [
    {
     "name": "stdout",
     "output_type": "stream",
     "text": [
      "Chi-Square Statistic: 13.523287671232877\n",
      "P-Value: 0.1403219064613133\n",
      "The lottery results appear to be random (fail to reject null hypothesis).\n"
     ]
    }
   ],
   "source": [
    "from scipy.stats import chisquare\n",
    "\n",
    "# List of lottery results (5-digit numbers)\n",
    "lottery_results = data['XSMB'].tolist()\n",
    "# Flatten the list into individual digits\n",
    "all_digits = [int(digit) for result in lottery_results for digit in result]\n",
    "\n",
    "# Calculate observed frequencies of each digit (0-9)\n",
    "observed_frequencies = np.bincount(all_digits, minlength=10)\n",
    "\n",
    "# Calculate expected frequencies assuming uniform distribution\n",
    "# (each digit should appear with equal probability)\n",
    "total_digits = len(all_digits)\n",
    "expected_frequencies = np.array([total_digits / 10] * 10)\n",
    "\n",
    "# Perform the Chi-Square test\n",
    "chi2_stat, p_value = chisquare(observed_frequencies, expected_frequencies)\n",
    "\n",
    "# Display results\n",
    "print(\"Chi-Square Statistic:\", chi2_stat)\n",
    "print(\"P-Value:\", p_value)\n",
    "\n",
    "# Conclusion\n",
    "if p_value < 0.05:\n",
    "    print(\"The lottery results do not appear to be random (reject null hypothesis).\")\n",
    "else:\n",
    "    print(\"The lottery results appear to be random (fail to reject null hypothesis).\")\n"
   ]
  },
  {
   "cell_type": "markdown",
   "metadata": {},
   "source": [
    "Perform a Chi-Square test to prove the randomness of Betting Number - Đánh đề (last 2-digit numbers):"
   ]
  },
  {
   "cell_type": "code",
   "execution_count": 13,
   "metadata": {},
   "outputs": [
    {
     "name": "stdout",
     "output_type": "stream",
     "text": [
      "Chi-Square Statistic: 7.957534246575342\n",
      "P-Value: 0.5384313658880496\n",
      "The betting-number results appear to be random (fail to reject null hypothesis).\n"
     ]
    }
   ],
   "source": [
    "from scipy.stats import chisquare\n",
    "# Extract the last two digits of each lottery result\n",
    "betting_number = data['XSMB'].str[-2:].tolist()\n",
    "# Flatten the list into individual digits\n",
    "all_digits = [int(digit) for i in betting_number for digit in i]\n",
    "\n",
    "# Calculate observed frequencies of each digit (0-9)\n",
    "observed_frequencies = np.bincount(all_digits, minlength=10)\n",
    "\n",
    "# Calculate expected frequencies assuming uniform distribution\n",
    "# (each digit should appear with equal probability)\n",
    "total_digits = len(all_digits)\n",
    "expected_frequencies = np.array([total_digits / 10] * 10)\n",
    "\n",
    "# Perform the Chi-Square test\n",
    "chi2_stat, p_value = chisquare(observed_frequencies, expected_frequencies)\n",
    "\n",
    "# Display results\n",
    "print(\"Chi-Square Statistic:\", chi2_stat)\n",
    "print(\"P-Value:\", p_value)\n",
    "\n",
    "# Conclusion\n",
    "if p_value < 0.05:\n",
    "    print(\"The betting-number results do not appear to be random (reject null hypothesis).\")\n",
    "else:\n",
    "    print(\"The betting-number results appear to be random (fail to reject null hypothesis).\")\n"
   ]
  },
  {
   "cell_type": "markdown",
   "metadata": {},
   "source": [
    "Conclusion: \n",
    "These methods can provide robust evidence regarding the randomness of lottery results.\n",
    "Due to the independence and randomness of each draw, there are no patterns to exploit. \n",
    "Any attempt to predict future lottery numbers based on past results is statistically futile.\n",
    "=> Warn about the financial and emotional risks associated with falling for lottery prediction scams. \n",
    "People can lose significant amounts of money chasing false hopes."
   ]
  }
 ],
 "metadata": {
  "kernelspec": {
   "display_name": "Python 3",
   "language": "python",
   "name": "python3"
  },
  "language_info": {
   "codemirror_mode": {
    "name": "ipython",
    "version": 3
   },
   "file_extension": ".py",
   "mimetype": "text/x-python",
   "name": "python",
   "nbconvert_exporter": "python",
   "pygments_lexer": "ipython3",
   "version": "3.9.0"
  }
 },
 "nbformat": 4,
 "nbformat_minor": 2
}
